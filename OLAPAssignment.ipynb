{
 "cells": [
  {
   "cell_type": "code",
   "execution_count": 1,
   "id": "ab09a26a",
   "metadata": {},
   "outputs": [],
   "source": [
    "import sqlite3\n",
    "import pandas as pd\n",
    "import numpy as np\n",
    "import matplotlib.pyplot as plt"
   ]
  },
  {
   "cell_type": "code",
   "execution_count": null,
   "id": "5ec893f0",
   "metadata": {},
   "outputs": [],
   "source": [
    "conn = sqlite3.connect('olap_assignment.db') \n",
    "cur = conn.cursor()"
   ]
  },
  {
   "cell_type": "code",
   "execution_count": 3,
   "id": "6e30f227",
   "metadata": {},
   "outputs": [],
   "source": [
    "# Create tables\n",
    "cur.executescript(\"\"\"\n",
    "DROP TABLE IF EXISTS sales;\n",
    "DROP TABLE IF EXISTS products;\n",
    "DROP TABLE IF EXISTS dates;\n",
    "\n",
    "CREATE TABLE products (\n",
    "  product_id INTEGER PRIMARY KEY,\n",
    "  category TEXT NOT NULL,\n",
    "  name TEXT NOT NULL,\n",
    "  price REAL NOT NULL\n",
    ");\n",
    "\n",
    "CREATE TABLE dates (\n",
    "  date TEXT PRIMARY KEY,          -- ISO format YYYY-MM-DD\n",
    "  year INTEGER,\n",
    "  quarter INTEGER,\n",
    "  month INTEGER\n",
    ");\n",
    "\n",
    "CREATE TABLE sales (\n",
    "  sale_id INTEGER PRIMARY KEY AUTOINCREMENT,\n",
    "  date TEXT,\n",
    "  product_id INTEGER,\n",
    "  quantity INTEGER,\n",
    "  revenue REAL,\n",
    "  FOREIGN KEY(date) REFERENCES dates(date),\n",
    "  FOREIGN KEY(product_id) REFERENCES products(product_id)\n",
    ");\n",
    "\"\"\")\n",
    "conn.commit()"
   ]
  },
  {
   "cell_type": "code",
   "execution_count": 5,
   "id": "0091ba37",
   "metadata": {},
   "outputs": [],
   "source": [
    "# Insert products\n",
    "products = [\n",
    "    (1, 'Electronics', 'Smartphone X', 399.0),\n",
    "    (2, 'Electronics', 'Laptop Pro', 999.0),\n",
    "    (3, 'Home', 'Blender', 59.0),\n",
    "    (4, 'Home', 'Vacuum', 149.0),\n",
    "    (5, 'Fashion', 'Sneakers', 89.0),\n",
    "    (6, 'Fashion', 'Jacket', 119.0)\n",
    "]\n",
    "\n",
    "cur.executemany(\"INSERT INTO products(product_id, category, name, price) VALUES (?, ?, ?, ?);\", products)\n",
    "conn.commit()"
   ]
  },
  {
   "cell_type": "code",
   "execution_count": 8,
   "id": "0da65bed",
   "metadata": {},
   "outputs": [],
   "source": [
    "# Insert dates for 2023 and 2024 \n",
    "from datetime import date, timedelta\n",
    "\n",
    "start = date(2023, 10, 1)\n",
    "end = date(2024, 12, 31)\n",
    "delta = timedelta(days=1)\n",
    "d = start\n",
    "dates_to_insert = []\n",
    "while d <= end:\n",
    "    dates_to_insert.append((d.isoformat(), d.year, (d.month-1)//3 + 1, d.month))\n",
    "    d += delta\n",
    "\n",
    "cur.executemany(\"INSERT OR IGNORE INTO dates(date, year, quarter, month) VALUES (?, ?, ?, ?);\", dates_to_insert)\n",
    "conn.commit()"
   ]
  },
  {
   "cell_type": "code",
   "execution_count": 9,
   "id": "68b72074",
   "metadata": {},
   "outputs": [],
   "source": [
    "# Insert sales data \n",
    "np.random.seed(42)\n",
    "sales_rows = []\n",
    "all_dates = [r[0] for r in dates_to_insert]\n",
    "product_ids = [p[0] for p in products]\n",
    "\n",
    "# create 600 sales rows randomly distributed across the date range\n",
    "for _ in range(600):\n",
    "    d = np.random.choice(all_dates)\n",
    "    pid = int(np.random.choice(product_ids))\n",
    "    qty = int(np.random.poisson(lam=2)) + 1\n",
    "\n",
    "    # get product price from table\n",
    "    price = next(p[3] for p in products if p[0] == pid)\n",
    "    revenue = round(qty * price * (1 + np.random.normal(0, 0.05)), 2)  \n",
    "    sales_rows.append((d, pid, qty, revenue))\n",
    "\n",
    "cur.executemany(\"INSERT INTO sales(date, product_id, quantity, revenue) VALUES (?, ?, ?, ?);\", sales_rows)\n",
    "conn.commit()"
   ]
  },
  {
   "cell_type": "code",
   "execution_count": 10,
   "id": "65957b20",
   "metadata": {},
   "outputs": [
    {
     "data": {
      "text/html": [
       "<div>\n",
       "<style scoped>\n",
       "    .dataframe tbody tr th:only-of-type {\n",
       "        vertical-align: middle;\n",
       "    }\n",
       "\n",
       "    .dataframe tbody tr th {\n",
       "        vertical-align: top;\n",
       "    }\n",
       "\n",
       "    .dataframe thead th {\n",
       "        text-align: right;\n",
       "    }\n",
       "</style>\n",
       "<table border=\"1\" class=\"dataframe\">\n",
       "  <thead>\n",
       "    <tr style=\"text-align: right;\">\n",
       "      <th></th>\n",
       "      <th>sales_count</th>\n",
       "    </tr>\n",
       "  </thead>\n",
       "  <tbody>\n",
       "    <tr>\n",
       "      <th>0</th>\n",
       "      <td>600</td>\n",
       "    </tr>\n",
       "  </tbody>\n",
       "</table>\n",
       "</div>"
      ],
      "text/plain": [
       "   sales_count\n",
       "0          600"
      ]
     },
     "execution_count": 10,
     "metadata": {},
     "output_type": "execute_result"
    }
   ],
   "source": [
    "pd.read_sql_query(\"SELECT COUNT(*) AS sales_count FROM sales;\", conn)"
   ]
  },
  {
   "cell_type": "markdown",
   "id": "746b47a6",
   "metadata": {},
   "source": [
    "## ROLAP: SQL OLAP queries\n",
    "ROLAP = do aggregations in SQL."
   ]
  },
  {
   "cell_type": "code",
   "execution_count": 11,
   "id": "44a313d2",
   "metadata": {},
   "outputs": [
    {
     "data": {
      "text/html": [
       "<div>\n",
       "<style scoped>\n",
       "    .dataframe tbody tr th:only-of-type {\n",
       "        vertical-align: middle;\n",
       "    }\n",
       "\n",
       "    .dataframe tbody tr th {\n",
       "        vertical-align: top;\n",
       "    }\n",
       "\n",
       "    .dataframe thead th {\n",
       "        text-align: right;\n",
       "    }\n",
       "</style>\n",
       "<table border=\"1\" class=\"dataframe\">\n",
       "  <thead>\n",
       "    <tr style=\"text-align: right;\">\n",
       "      <th></th>\n",
       "      <th>category</th>\n",
       "      <th>num_sales</th>\n",
       "      <th>avg_revenue</th>\n",
       "      <th>total_revenue</th>\n",
       "    </tr>\n",
       "  </thead>\n",
       "  <tbody>\n",
       "    <tr>\n",
       "      <th>0</th>\n",
       "      <td>Electronics</td>\n",
       "      <td>190</td>\n",
       "      <td>2080.87</td>\n",
       "      <td>395365.93</td>\n",
       "    </tr>\n",
       "    <tr>\n",
       "      <th>1</th>\n",
       "      <td>Home</td>\n",
       "      <td>209</td>\n",
       "      <td>299.68</td>\n",
       "      <td>62632.46</td>\n",
       "    </tr>\n",
       "    <tr>\n",
       "      <th>2</th>\n",
       "      <td>Fashion</td>\n",
       "      <td>201</td>\n",
       "      <td>309.69</td>\n",
       "      <td>62248.10</td>\n",
       "    </tr>\n",
       "  </tbody>\n",
       "</table>\n",
       "</div>"
      ],
      "text/plain": [
       "      category  num_sales  avg_revenue  total_revenue\n",
       "0  Electronics        190      2080.87      395365.93\n",
       "1         Home        209       299.68       62632.46\n",
       "2      Fashion        201       309.69       62248.10"
      ]
     },
     "execution_count": 11,
     "metadata": {},
     "output_type": "execute_result"
    }
   ],
   "source": [
    "# Average revenue by product category\n",
    "query1 = \"\"\"\n",
    "SELECT p.category,\n",
    "       COUNT(s.sale_id) AS num_sales,\n",
    "       ROUND(AVG(s.revenue),2) AS avg_revenue,\n",
    "       ROUND(SUM(s.revenue),2) AS total_revenue\n",
    "FROM sales s\n",
    "JOIN products p ON s.product_id = p.product_id\n",
    "GROUP BY p.category\n",
    "ORDER BY total_revenue DESC;\n",
    "\"\"\"\n",
    "df_q1 = pd.read_sql_query(query1, conn)\n",
    "df_q1"
   ]
  },
  {
   "cell_type": "code",
   "execution_count": 13,
   "id": "5f89eb98",
   "metadata": {},
   "outputs": [
    {
     "data": {
      "text/html": [
       "<div>\n",
       "<style scoped>\n",
       "    .dataframe tbody tr th:only-of-type {\n",
       "        vertical-align: middle;\n",
       "    }\n",
       "\n",
       "    .dataframe tbody tr th {\n",
       "        vertical-align: top;\n",
       "    }\n",
       "\n",
       "    .dataframe thead th {\n",
       "        text-align: right;\n",
       "    }\n",
       "</style>\n",
       "<table border=\"1\" class=\"dataframe\">\n",
       "  <thead>\n",
       "    <tr style=\"text-align: right;\">\n",
       "      <th></th>\n",
       "      <th>year</th>\n",
       "      <th>num_sales</th>\n",
       "      <th>total_revenue</th>\n",
       "    </tr>\n",
       "  </thead>\n",
       "  <tbody>\n",
       "    <tr>\n",
       "      <th>0</th>\n",
       "      <td>2023</td>\n",
       "      <td>113</td>\n",
       "      <td>89983.76</td>\n",
       "    </tr>\n",
       "    <tr>\n",
       "      <th>1</th>\n",
       "      <td>2024</td>\n",
       "      <td>487</td>\n",
       "      <td>430262.73</td>\n",
       "    </tr>\n",
       "  </tbody>\n",
       "</table>\n",
       "</div>"
      ],
      "text/plain": [
       "   year  num_sales  total_revenue\n",
       "0  2023        113       89983.76\n",
       "1  2024        487      430262.73"
      ]
     },
     "execution_count": 13,
     "metadata": {},
     "output_type": "execute_result"
    }
   ],
   "source": [
    "# Total sales (sum of revenue) by year\n",
    "query2 = \"\"\"\n",
    "SELECT d.year,\n",
    "       COUNT(s.sale_id) AS num_sales,\n",
    "       ROUND(SUM(s.revenue),2) AS total_revenue\n",
    "FROM sales s\n",
    "JOIN dates d ON s.date = d.date\n",
    "GROUP BY d.year\n",
    "ORDER BY d.year;\n",
    "\"\"\"\n",
    "df_q2 = pd.read_sql_query(query2, conn)\n",
    "df_q2"
   ]
  },
  {
   "cell_type": "code",
   "execution_count": 15,
   "id": "5c1d95e4",
   "metadata": {},
   "outputs": [
    {
     "data": {
      "text/html": [
       "<div>\n",
       "<style scoped>\n",
       "    .dataframe tbody tr th:only-of-type {\n",
       "        vertical-align: middle;\n",
       "    }\n",
       "\n",
       "    .dataframe tbody tr th {\n",
       "        vertical-align: top;\n",
       "    }\n",
       "\n",
       "    .dataframe thead th {\n",
       "        text-align: right;\n",
       "    }\n",
       "</style>\n",
       "<table border=\"1\" class=\"dataframe\">\n",
       "  <thead>\n",
       "    <tr style=\"text-align: right;\">\n",
       "      <th></th>\n",
       "      <th>category</th>\n",
       "      <th>name</th>\n",
       "      <th>total_revenue</th>\n",
       "    </tr>\n",
       "  </thead>\n",
       "  <tbody>\n",
       "    <tr>\n",
       "      <th>0</th>\n",
       "      <td>Electronics</td>\n",
       "      <td>Laptop Pro</td>\n",
       "      <td>274819.58</td>\n",
       "    </tr>\n",
       "    <tr>\n",
       "      <th>1</th>\n",
       "      <td>Fashion</td>\n",
       "      <td>Jacket</td>\n",
       "      <td>35213.01</td>\n",
       "    </tr>\n",
       "    <tr>\n",
       "      <th>2</th>\n",
       "      <td>Home</td>\n",
       "      <td>Vacuum</td>\n",
       "      <td>44472.79</td>\n",
       "    </tr>\n",
       "  </tbody>\n",
       "</table>\n",
       "</div>"
      ],
      "text/plain": [
       "      category        name  total_revenue\n",
       "0  Electronics  Laptop Pro      274819.58\n",
       "1      Fashion      Jacket       35213.01\n",
       "2         Home      Vacuum       44472.79"
      ]
     },
     "execution_count": 15,
     "metadata": {},
     "output_type": "execute_result"
    }
   ],
   "source": [
    "# Best-selling product in each category (by total revenue)\n",
    "query3 = \"\"\"\n",
    "SELECT category, name, total_revenue FROM (\n",
    "  SELECT p.category, p.name, ROUND(SUM(s.revenue),2) AS total_revenue,\n",
    "         ROW_NUMBER() OVER (PARTITION BY p.category ORDER BY SUM(s.revenue) DESC) as rn\n",
    "  FROM sales s\n",
    "  JOIN products p ON s.product_id = p.product_id\n",
    "  GROUP BY p.category, p.name\n",
    ") WHERE rn = 1\n",
    "ORDER BY category;\n",
    "\"\"\"\n",
    "df_q3 = pd.read_sql_query(query3, conn)\n",
    "df_q3"
   ]
  },
  {
   "cell_type": "markdown",
   "id": "274816a1",
   "metadata": {},
   "source": [
    "Query1: SQL GROUP BY on category to get averages and totals (ROLAP).\n",
    "\n",
    "Query2: Aggregate by year to see year-over-year revenue.\n",
    "\n",
    "Query3: Uses window function ROW_NUMBER to pick top product per category.\n"
   ]
  },
  {
   "cell_type": "markdown",
   "id": "4d27980d",
   "metadata": {},
   "source": [
    "\n",
    "## MOLAP: Build a cube with pandas pivot_table"
   ]
  },
  {
   "cell_type": "code",
   "execution_count": 16,
   "id": "e18adeca",
   "metadata": {},
   "outputs": [
    {
     "data": {
      "text/html": [
       "<div>\n",
       "<style scoped>\n",
       "    .dataframe tbody tr th:only-of-type {\n",
       "        vertical-align: middle;\n",
       "    }\n",
       "\n",
       "    .dataframe tbody tr th {\n",
       "        vertical-align: top;\n",
       "    }\n",
       "\n",
       "    .dataframe thead th {\n",
       "        text-align: right;\n",
       "    }\n",
       "</style>\n",
       "<table border=\"1\" class=\"dataframe\">\n",
       "  <thead>\n",
       "    <tr style=\"text-align: right;\">\n",
       "      <th>year</th>\n",
       "      <th>2023</th>\n",
       "      <th>2024</th>\n",
       "      <th>All</th>\n",
       "    </tr>\n",
       "    <tr>\n",
       "      <th>category</th>\n",
       "      <th></th>\n",
       "      <th></th>\n",
       "      <th></th>\n",
       "    </tr>\n",
       "  </thead>\n",
       "  <tbody>\n",
       "    <tr>\n",
       "      <th>Electronics</th>\n",
       "      <td>67610.94</td>\n",
       "      <td>327754.99</td>\n",
       "      <td>395365.93</td>\n",
       "    </tr>\n",
       "    <tr>\n",
       "      <th>Fashion</th>\n",
       "      <td>8710.73</td>\n",
       "      <td>53537.37</td>\n",
       "      <td>62248.10</td>\n",
       "    </tr>\n",
       "    <tr>\n",
       "      <th>Home</th>\n",
       "      <td>13662.09</td>\n",
       "      <td>48970.37</td>\n",
       "      <td>62632.46</td>\n",
       "    </tr>\n",
       "    <tr>\n",
       "      <th>All</th>\n",
       "      <td>89983.76</td>\n",
       "      <td>430262.73</td>\n",
       "      <td>520246.49</td>\n",
       "    </tr>\n",
       "  </tbody>\n",
       "</table>\n",
       "</div>"
      ],
      "text/plain": [
       "year             2023       2024        All\n",
       "category                                   \n",
       "Electronics  67610.94  327754.99  395365.93\n",
       "Fashion       8710.73   53537.37   62248.10\n",
       "Home         13662.09   48970.37   62632.46\n",
       "All          89983.76  430262.73  520246.49"
      ]
     },
     "execution_count": 16,
     "metadata": {},
     "output_type": "execute_result"
    }
   ],
   "source": [
    "# Build a revenue cube: category x year (sum of revenue)\n",
    "sales_df = pd.read_sql_query(\"\"\"\n",
    "SELECT s.*, p.category, p.name, d.year, d.quarter, d.month\n",
    "FROM sales s\n",
    "JOIN products p ON s.product_id = p.product_id\n",
    "JOIN dates d ON s.date = d.date\n",
    "\"\"\", conn)\n",
    "\n",
    "cube = pd.pivot_table(sales_df, \n",
    "                      values='revenue',\n",
    "                      index='category',\n",
    "                      columns='year',\n",
    "                      aggfunc='sum',\n",
    "                      margins=True,           \n",
    "                      margins_name='All', \n",
    "                      fill_value=0)\n",
    "cube"
   ]
  },
  {
   "cell_type": "markdown",
   "id": "e9e1784d",
   "metadata": {},
   "source": [
    "MOLAP: the cube is materialized in pandas pivot table (fast, in-memory aggregations)."
   ]
  },
  {
   "cell_type": "markdown",
   "id": "0d7b0118",
   "metadata": {},
   "source": [
    "## HOLAP: Hybrid approach (detailed rows from SQL, aggregates with pandas)"
   ]
  },
  {
   "cell_type": "code",
   "execution_count": 17,
   "id": "0c9011a8",
   "metadata": {},
   "outputs": [
    {
     "data": {
      "text/plain": [
       "(   sale_id        date category     name  quantity  revenue\n",
       " 0        1  2024-01-11     Home   Vacuum         4   604.32\n",
       " 1        2  2024-02-29     Home  Blender         1    61.98\n",
       " 2        3  2024-06-14     Home   Vacuum         2   298.33\n",
       " 3        4  2024-03-18     Home   Vacuum         3   437.44\n",
       " 4        5  2024-12-19     Home  Blender         5   290.67,\n",
       "       category          name  total_revenue  avg_revenue  total_qty\n",
       " 0  Electronics    Laptop Pro      233704.47  3436.830441  233704.47\n",
       " 1  Electronics  Smartphone X       94050.52  1133.138795   94050.52\n",
       " 5         Home        Vacuum       34712.81   408.386000   34712.81\n",
       " 2      Fashion        Jacket       31181.68   384.959012   31181.68\n",
       " 3      Fashion      Sneakers       22355.69   254.041932   22355.69)"
      ]
     },
     "execution_count": 17,
     "metadata": {},
     "output_type": "execute_result"
    }
   ],
   "source": [
    "# HOLAP pattern\n",
    "# fetch detailed rows for a subset (ROLAP)\n",
    "detailed = pd.read_sql_query(\"\"\"\n",
    "SELECT s.sale_id, s.date, p.category, p.name, s.quantity, s.revenue\n",
    "FROM sales s JOIN products p ON s.product_id = p.product_id\n",
    "WHERE s.date BETWEEN '2024-01-01' AND '2024-12-31';\n",
    "\"\"\", conn)\n",
    "\n",
    "# build aggregated summaries in pandas (MOLAP)\n",
    "holap_summary = detailed.groupby(['category','name']).revenue.agg(\n",
    "    total_revenue='sum', avg_revenue='mean', total_qty='sum').reset_index().sort_values('total_revenue', ascending=False)\n",
    "detailed.head(), holap_summary.head()"
   ]
  },
  {
   "cell_type": "markdown",
   "id": "450d062c",
   "metadata": {},
   "source": [
    "HOLAP fetches raw detailed rows from the relational store and builds fast in-memory summaries with pandas.\n"
   ]
  },
  {
   "cell_type": "markdown",
   "id": "f617df7d",
   "metadata": {},
   "source": [
    "\n",
    "## OLAP operations: Slice, Dice, Roll-Up, Drill-Down\n",
    "### Slice: fix one dimension (sales in 2024)"
   ]
  },
  {
   "cell_type": "code",
   "execution_count": 18,
   "id": "4f6d229b",
   "metadata": {},
   "outputs": [
    {
     "data": {
      "text/html": [
       "<div>\n",
       "<style scoped>\n",
       "    .dataframe tbody tr th:only-of-type {\n",
       "        vertical-align: middle;\n",
       "    }\n",
       "\n",
       "    .dataframe tbody tr th {\n",
       "        vertical-align: top;\n",
       "    }\n",
       "\n",
       "    .dataframe thead th {\n",
       "        text-align: right;\n",
       "    }\n",
       "</style>\n",
       "<table border=\"1\" class=\"dataframe\">\n",
       "  <thead>\n",
       "    <tr style=\"text-align: right;\">\n",
       "      <th></th>\n",
       "      <th>category</th>\n",
       "      <th>total_revenue</th>\n",
       "      <th>num_sales</th>\n",
       "    </tr>\n",
       "  </thead>\n",
       "  <tbody>\n",
       "    <tr>\n",
       "      <th>0</th>\n",
       "      <td>Electronics</td>\n",
       "      <td>327754.99</td>\n",
       "      <td>151</td>\n",
       "    </tr>\n",
       "    <tr>\n",
       "      <th>1</th>\n",
       "      <td>Fashion</td>\n",
       "      <td>53537.37</td>\n",
       "      <td>169</td>\n",
       "    </tr>\n",
       "    <tr>\n",
       "      <th>2</th>\n",
       "      <td>Home</td>\n",
       "      <td>48970.37</td>\n",
       "      <td>167</td>\n",
       "    </tr>\n",
       "  </tbody>\n",
       "</table>\n",
       "</div>"
      ],
      "text/plain": [
       "      category  total_revenue  num_sales\n",
       "0  Electronics      327754.99        151\n",
       "1      Fashion       53537.37        169\n",
       "2         Home       48970.37        167"
      ]
     },
     "execution_count": 18,
     "metadata": {},
     "output_type": "execute_result"
    }
   ],
   "source": [
    "# Slice - sales in 2024 only\n",
    "slice_2024 = sales_df[sales_df['year'] == 2024]\n",
    "slice_2024_agg = slice_2024.groupby('category').revenue.agg(total_revenue='sum', num_sales='count').reset_index()\n",
    "slice_2024_agg"
   ]
  },
  {
   "cell_type": "markdown",
   "id": "f565ecaf",
   "metadata": {},
   "source": [
    "We fixed the year dimension to 2024."
   ]
  },
  {
   "cell_type": "markdown",
   "id": "4a5b9476",
   "metadata": {},
   "source": [
    "### Dice: multiple filters (Q1 2024 for Electronics only)"
   ]
  },
  {
   "cell_type": "code",
   "execution_count": 19,
   "id": "0f6e823b",
   "metadata": {},
   "outputs": [
    {
     "data": {
      "text/html": [
       "<div>\n",
       "<style scoped>\n",
       "    .dataframe tbody tr th:only-of-type {\n",
       "        vertical-align: middle;\n",
       "    }\n",
       "\n",
       "    .dataframe tbody tr th {\n",
       "        vertical-align: top;\n",
       "    }\n",
       "\n",
       "    .dataframe thead th {\n",
       "        text-align: right;\n",
       "    }\n",
       "</style>\n",
       "<table border=\"1\" class=\"dataframe\">\n",
       "  <thead>\n",
       "    <tr style=\"text-align: right;\">\n",
       "      <th></th>\n",
       "      <th>name</th>\n",
       "      <th>total_revenue</th>\n",
       "      <th>num_sales</th>\n",
       "    </tr>\n",
       "  </thead>\n",
       "  <tbody>\n",
       "    <tr>\n",
       "      <th>0</th>\n",
       "      <td>Laptop Pro</td>\n",
       "      <td>74574.60</td>\n",
       "      <td>21</td>\n",
       "    </tr>\n",
       "    <tr>\n",
       "      <th>1</th>\n",
       "      <td>Smartphone X</td>\n",
       "      <td>29879.85</td>\n",
       "      <td>23</td>\n",
       "    </tr>\n",
       "  </tbody>\n",
       "</table>\n",
       "</div>"
      ],
      "text/plain": [
       "           name  total_revenue  num_sales\n",
       "0    Laptop Pro       74574.60         21\n",
       "1  Smartphone X       29879.85         23"
      ]
     },
     "execution_count": 19,
     "metadata": {},
     "output_type": "execute_result"
    }
   ],
   "source": [
    "# Dice - Q1 2024 & Electronics\n",
    "dice = sales_df[(sales_df['year'] == 2024) & (sales_df['quarter'] == 1) & (sales_df['category'] == 'Electronics')]\n",
    "dice_agg = dice.groupby(['name']).revenue.agg(total_revenue='sum', num_sales='count').reset_index().sort_values('total_revenue', ascending=False)\n",
    "dice_agg"
   ]
  },
  {
   "cell_type": "markdown",
   "id": "3626918d",
   "metadata": {},
   "source": [
    "We applied multiple criteria across year, quarter and category."
   ]
  },
  {
   "cell_type": "markdown",
   "id": "311db3c9",
   "metadata": {},
   "source": [
    "### Roll-Up: Aggregate from product -> category -> year"
   ]
  },
  {
   "cell_type": "code",
   "execution_count": 20,
   "id": "afb0c779",
   "metadata": {},
   "outputs": [
    {
     "data": {
      "text/plain": [
       "(   year     category          name  total_revenue\n",
       " 0  2023  Electronics    Laptop Pro       41115.11\n",
       " 1  2023  Electronics  Smartphone X       26495.83\n",
       " 2  2023      Fashion        Jacket        4031.33\n",
       " 3  2023      Fashion      Sneakers        4679.40\n",
       " 4  2023         Home       Blender        3902.11,\n",
       "    year     category  category_revenue\n",
       " 0  2023  Electronics          67610.94\n",
       " 1  2023      Fashion           8710.73\n",
       " 2  2023         Home          13662.09\n",
       " 3  2024  Electronics         327754.99\n",
       " 4  2024      Fashion          53537.37,\n",
       "    year  year_revenue\n",
       " 0  2023      89983.76\n",
       " 1  2024     430262.73)"
      ]
     },
     "execution_count": 20,
     "metadata": {},
     "output_type": "execute_result"
    }
   ],
   "source": [
    "# Roll-Up\n",
    "# Level 1: product level (name)\n",
    "roll_prod = sales_df.groupby(['year','category','name']).revenue.sum().reset_index().rename(columns={'revenue':'total_revenue'})\n",
    "# Level 2: category\n",
    "roll_cat = roll_prod.groupby(['year','category']).total_revenue.sum().reset_index().rename(columns={'total_revenue':'category_revenue'})\n",
    "# Level 3: year \n",
    "roll_year = roll_cat.groupby(['year']).category_revenue.sum().reset_index().rename(columns={'category_revenue':'year_revenue'})\n",
    "\n",
    "roll_prod.head(), roll_cat.head(), roll_year"
   ]
  },
  {
   "cell_type": "markdown",
   "id": "5d872def",
   "metadata": {},
   "source": [
    "Roll-up aggregates up the hierarchy: product → category → year."
   ]
  },
  {
   "cell_type": "markdown",
   "id": "0760123d",
   "metadata": {},
   "source": [
    "### Drill-Down: From year → quarter → month (expand)"
   ]
  },
  {
   "cell_type": "code",
   "execution_count": 21,
   "id": "725aa6dd",
   "metadata": {},
   "outputs": [
    {
     "data": {
      "text/plain": [
       "(   year    revenue\n",
       " 0  2023   89983.76\n",
       " 1  2024  430262.73,\n",
       "    year  quarter    revenue\n",
       " 0  2023        4   89983.76\n",
       " 1  2024        1  129781.02\n",
       " 2  2024        2  100528.10\n",
       " 3  2024        3  116224.56\n",
       " 4  2024        4   83729.05,\n",
       "     year  month   revenue\n",
       " 0   2023     10  24498.23\n",
       " 1   2023     11  40769.03\n",
       " 2   2023     12  24716.50\n",
       " 3   2024      1  50980.34\n",
       " 4   2024      2  30374.22\n",
       " 5   2024      3  48426.46\n",
       " 6   2024      4  25282.75\n",
       " 7   2024      5  53766.45\n",
       " 8   2024      6  21478.90\n",
       " 9   2024      7  47636.41\n",
       " 10  2024      8  41137.35\n",
       " 11  2024      9  27450.80)"
      ]
     },
     "execution_count": 21,
     "metadata": {},
     "output_type": "execute_result"
    }
   ],
   "source": [
    "# Drill-Down from year to quarter to month\n",
    "# Start: by year\n",
    "by_year = sales_df.groupby('year').revenue.sum().reset_index().rename(columns={'revenue':'revenue'})\n",
    "# drill to quarter\n",
    "by_quarter = sales_df.groupby(['year','quarter']).revenue.sum().reset_index().rename(columns={'revenue':'revenue'})\n",
    "# drill to month\n",
    "by_month = sales_df.groupby(['year','month']).revenue.sum().reset_index().rename(columns={'revenue':'revenue'})\n",
    "\n",
    "by_year, by_quarter.head(), by_month.head(12)"
   ]
  },
  {
   "cell_type": "markdown",
   "id": "9456e9ed",
   "metadata": {},
   "source": [
    "Drill-down splits aggregate to more granular levels (year → quarter → month).\n"
   ]
  },
  {
   "cell_type": "markdown",
   "id": "a45b7ae0",
   "metadata": {},
   "source": [
    "\n",
    "## Visualizations \n",
    "### Plot 1 — Bar chart: Revenue by category (use ROLAP result or pandas)"
   ]
  },
  {
   "cell_type": "code",
   "execution_count": 23,
   "id": "c2643313",
   "metadata": {},
   "outputs": [
    {
     "data": {
      "image/png": "[encoded data removed]",
      "text/plain": [
       "<Figure size 800x500 with 1 Axes>"
      ]
     },
     "metadata": {},
     "output_type": "display_data"
    }
   ],
   "source": [
    "# Bar chart: revenue by category \n",
    "cat_revenue = sales_df.groupby('category').revenue.sum().sort_values(ascending=False)\n",
    "plt.figure(figsize=(8,5))\n",
    "cat_revenue.plot(kind='bar')\n",
    "plt.title('Total Revenue by Category')\n",
    "plt.ylabel('Revenue')\n",
    "plt.xlabel('Category')\n",
    "plt.tight_layout()\n",
    "plt.show()"
   ]
  },
  {
   "cell_type": "markdown",
   "id": "0048febd",
   "metadata": {},
   "source": [
    "### Plot 2 — Heatmap: category × year revenue"
   ]
  },
  {
   "cell_type": "code",
   "execution_count": 24,
   "id": "8589fb33",
   "metadata": {},
   "outputs": [
    {
     "data": {
      "image/png": "[encoded data removed]",
      "text/plain": [
       "<Figure size 600x400 with 2 Axes>"
      ]
     },
     "metadata": {},
     "output_type": "display_data"
    }
   ],
   "source": [
    "# Heatmap of cube (category vs year)\n",
    "cube_no_all = cube.drop(index='All', errors='ignore').drop(columns='All', errors='ignore')\n",
    "# convert to numeric matrix\n",
    "mat = cube_no_all.fillna(0).astype(float).values\n",
    "\n",
    "plt.figure(figsize=(6,4))\n",
    "plt.imshow(mat, aspect='auto')   \n",
    "plt.colorbar(label='Revenue')\n",
    "plt.yticks(range(len(cube_no_all.index)), cube_no_all.index)\n",
    "plt.xticks(range(len(cube_no_all.columns)), cube_no_all.columns)\n",
    "plt.title('Revenue Heatmap (Category x Year)')\n",
    "plt.tight_layout()\n",
    "plt.show()"
   ]
  },
  {
   "cell_type": "code",
   "execution_count": 25,
   "id": "cab72889",
   "metadata": {},
   "outputs": [],
   "source": [
    "conn.close()"
   ]
  }
 ],
 "metadata": {
  "kernelspec": {
   "display_name": "Python 3",
   "language": "python",
   "name": "python3"
  },
  "language_info": {
   "codemirror_mode": {
    "name": "ipython",
    "version": 3
   },
   "file_extension": ".py",
   "mimetype": "text/x-python",
   "name": "python",
   "nbconvert_exporter": "python",
   "pygments_lexer": "ipython3",
   "version": "3.11.9"
  }
 },
 "nbformat": 4,
 "nbformat_minor": 5
}
